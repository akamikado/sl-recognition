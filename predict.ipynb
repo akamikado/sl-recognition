{
 "cells": [
  {
   "cell_type": "code",
   "execution_count": null,
   "id": "7fb92c7c-dc2b-4796-8f4d-2d2450b877df",
   "metadata": {},
   "outputs": [],
   "source": [
    "from model import ModifiedYolo\n",
    "from sklearn.metrics import confusion_matrix, ConfusionMatrixDisplay, precision_score, recall_score, f1_score\n",
    "import os\n",
    "import matplotlib.pyplot as plt\n",
    "import numpy as np"
   ]
  },
  {
   "cell_type": "code",
   "execution_count": null,
   "id": "ffc0e770-3adc-440e-95df-44a8acdb774a",
   "metadata": {},
   "outputs": [],
   "source": [
    "dataset = \"datasets/asl_alphabet_train-5\"\n",
    "\n",
    "\n",
    "def get_image_list(root_dir):\n",
    "    image_list = []\n",
    "    for root, _, files in os.walk(root_dir):\n",
    "        for file in files:\n",
    "            image_list.append(os.path.join(root, file))\n",
    "    return image_list\n",
    "\n",
    "\n",
    "images = get_image_list(f\"{dataset}/test\")"
   ]
  },
  {
   "cell_type": "code",
   "execution_count": null,
   "id": "a5238445-378a-4333-a2c0-0c183555b3b5",
   "metadata": {},
   "outputs": [],
   "source": [
    "model = ModifiedYolo('runs/classify/train/weights/best.pt')\n",
    "\n",
    "results = model([image for image in images])"
   ]
  },
  {
   "cell_type": "code",
   "execution_count": null,
   "id": "736e99ba-79ec-4c38-9f86-5f7683425996",
   "metadata": {},
   "outputs": [],
   "source": [
    "y_pred = np.empty((0,1))\n",
    "y_true = np.empty((0,1))\n",
    "classes = os.listdir(f\"{dataset}/test\")"
   ]
  },
  {
   "cell_type": "code",
   "execution_count": null,
   "id": "14990127-231e-4002-84d1-d567834f6dc6",
   "metadata": {},
   "outputs": [],
   "source": [
    "for r in results:\n",
    "    y_true = np.append(y_true, np.array([r.path.split(\"/\")[-2]]))\n",
    "    print(y_true)\n",
    "    # print(\"image:\", r.path)\n",
    "    # print(\"top1:\", r.names[r.probs.top1])\n",
    "    y_pred = np.append(y_pred, np.array([r.names[r.probs.top1]]))\n",
    "    # print(\"top1 confidence: \", r.probs.top1conf.item())\n",
    "    top5_classes = [r.names[i] for i in r.probs.top5]\n",
    "    # print(\"top5:\", \", \".join(top5_classes))\n",
    "    top5_confidence = [i for i in r.probs.top5conf.tolist()]\n",
    "    # print(\"top5 confidence: \", \", \".join(\n",
    "    #     f\"{conf:f}\" for conf in top5_confidence))\n",
    "    # print(\"\\n\")"
   ]
  },
  {
   "cell_type": "code",
   "execution_count": null,
   "id": "969f423b-f17a-4af3-89a5-280fe2ddef23",
   "metadata": {},
   "outputs": [],
   "source": [
    "cm = confusion_matrix(y_true, y_pred)\n",
    "ConfusionMatrixDisplay(cm, display_labels=classes).plot()\n"
   ]
  },
  {
   "cell_type": "code",
   "execution_count": null,
   "id": "10ac3f3e-3ccd-4ee9-94c0-ffeafb68aa5a",
   "metadata": {},
   "outputs": [],
   "source": [
    "precision = precision_score(\n",
    "    y_true, y_pred, labels=classes, average='weighted', zero_division=0.0)\n",
    "recall = recall_score(y_true, y_pred, labels=classes,\n",
    "                      average='weighted', zero_division=0.0)\n",
    "f1 = f1_score(y_true, y_pred, labels = classes, average='weighted', zero_division=0.0)\n",
    "print(\"Precision: \", precision)\n",
    "print(\"Recall: \", recall)\n",
    "print(\"F1 Score: \", f1)"
   ]
  }
 ],
 "metadata": {
  "kernelspec": {
   "display_name": "Python 3 (ipykernel)",
   "language": "python",
   "name": "python3"
  },
  "language_info": {
   "codemirror_mode": {
    "name": "ipython",
    "version": 3
   },
   "file_extension": ".py",
   "mimetype": "text/x-python",
   "name": "python",
   "nbconvert_exporter": "python",
   "pygments_lexer": "ipython3",
   "version": "3.10.12"
  }
 },
 "nbformat": 4,
 "nbformat_minor": 5
}
